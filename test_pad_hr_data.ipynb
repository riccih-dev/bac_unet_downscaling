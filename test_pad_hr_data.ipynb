{
 "cells": [
  {
   "cell_type": "code",
   "execution_count": null,
   "metadata": {},
   "outputs": [],
   "source": [
    "import numpy as np \n",
    "\n",
    "padded_cerra, padded_cerra_lsm_orog = pad_cerra_to_match_era5(era5_t2m_cropped, cerra, cerra_lsm_orog)\n",
    "#display(padded_cerra)\n",
    "#display(padded_cerra_lsm_orog)\n",
    "#display(cerra)\n",
    "\n",
    "t2m_cerra_padded = padded_cerra['t2m']\n",
    "t2m_cerra = cerra['t2m']\n",
    "\n",
    "lsm_cerra_padded = padded_cerra_lsm_orog['lsm']\n",
    "lsm_cerra = cerra_lsm_orog['lsm']\n",
    "\n",
    "\n",
    "# Total number of values in t2m\n",
    "total_values_cerra = np.prod(t2m_cerra.shape)\n",
    "total_values_cerra_padded = np.prod(t2m_cerra_padded.shape)\n",
    "\n",
    "total_values_lsm = np.prod(lsm_cerra.shape)\n",
    "total_values_lsm_padded = np.prod(lsm_cerra_padded.shape)\n",
    "\n",
    "\n",
    "\n",
    "# Count the number of NaN values in t2m\n",
    "nan_count_t2m = np.sum(np.isnan(t2m_cerra_padded.values))\n",
    "non_nan_count_t2m = np.sum(~np.isnan(t2m_cerra_padded.values))\n",
    "\n",
    "nan_count_lsm = np.sum(np.isnan(lsm_cerra_padded.values))\n",
    "non_nan_count_lsm = np.sum(~np.isnan(lsm_cerra_padded.values))\n",
    "\n",
    "print(f\"Number values in cerra t2m: {total_values_cerra}\")\n",
    "print(f\"Number values in cerra padded t2m: {total_values_cerra_padded}\")\n",
    "print(f\"Diff: {total_values_cerra-total_values_cerra_padded}\")\n",
    "print()\n",
    "\n",
    "print(f\"Number values in cerra t2m: {total_values_lsm}\")\n",
    "print(f\"Number values in cerra padded t2m: {total_values_lsm_padded}\")\n",
    "print(f\"Diff: {total_values_lsm-total_values_lsm_padded}\")\n",
    "print()\n",
    "\n",
    "print(f\"Number of NaN values in t2m padded: {nan_count_t2m}\")\n",
    "print(f\"Number of non NaN values in t2m padded: {non_nan_count_t2m}\")\n",
    "print()\n",
    "\n",
    "print(f\"Number of NaN values in t2m padded: {nan_count_lsm}\")\n",
    "print(f\"Number of non NaN values in t2m padded: {non_nan_count_lsm}\")\n",
    "\n",
    "#doesn't work to simply use this, cause then only nan values and only used grid points of era5 "
   ]
  },
  {
   "cell_type": "code",
   "execution_count": null,
   "metadata": {},
   "outputs": [],
   "source": [
    "import numpy as np\n",
    "\n",
    "print(t2m_cerra_padded.where(~np.isnan(t2m_cerra_padded), drop=True).values)\n",
    "print()\n",
    "print(t2m_cerra.values)"
   ]
  }
 ],
 "metadata": {
  "language_info": {
   "name": "python"
  }
 },
 "nbformat": 4,
 "nbformat_minor": 2
}
