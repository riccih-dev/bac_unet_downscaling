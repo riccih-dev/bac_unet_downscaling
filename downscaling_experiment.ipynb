{
 "cells": [
  {
   "cell_type": "code",
   "execution_count": null,
   "metadata": {},
   "outputs": [],
   "source": [
    "from utility.DataLoaderService import load_data\n",
    "from model.UNet import unet"
   ]
  },
  {
   "attachments": {},
   "cell_type": "markdown",
   "metadata": {},
   "source": [
    ".\n",
    "## ERA5 and CERRA Data\n",
    "I've loaded the data via cloud from https://storage.ecmwf.europeanweather.cloud/Code4Earth/. In total I used the data for the time period from 2019-01 - 2021-06 for both data sets (ERA5 and CERRA). While fetching the data from the cloud I've realized that ERA5 and CERRA data only exists for the time period till 2021-06.\n",
    "\n",
    "<br>\n",
    "\n",
    "### Which Parameters do I need?\n",
    "From both data set types (ERA5 and CERRA):\n",
    "- 2m temperature\n",
    "- time (year, month, day, time)\n",
    "- longitude\n",
    "- latitude\n",
    "\n",
    "In addition to the ERA5 and CERRA datasets containing the t2m-parameter, there are two datasets containting some additional parameters. The parameters are the following:\n",
    "<br>\n",
    "\n",
    "**ERA5**\n",
    "<br>era5_topography_ds contains lsm and z as data variables\n",
    "- **lsm**  => Land Surface Model. It refers to land surface variables that describe various properties and processes related to the land surface\n",
    "- **z** => refers to geopotential height, it provides information about the vertical structure of the atmosphere and is often used to analyze weather patterns, identify atmospheric circulation features, and understand large-scale atmospheric dynamics\n",
    "<br>\n",
    "\n",
    "**CERRA**\n",
    "<br>cerra_orography_ds contains lsm and orog as data variables\n",
    "- **lsm** => refers to land surface variables that describe various properties and processes related to the land surface\n",
    "- **orog** => topography or relief of the Earth's surface\n",
    "\n",
    "These datasets are only available for one time period. But since the orography etc. doesn't change during such a short time period, I fetched it once from the cloud and the added it as a new dimension to the exisitng ERA5 and CERRA datasets.\n",
    "\n",
    "<br>\n",
    "\n",
    "### How did I split the data?\n",
    "As discussed with Irene I'm using for the time period, only few years and the following splitting (ca. 70 - 15 - 15):\n",
    "\n",
    "- **trainig:** 2015 - 2019 \n",
    "- **testing:** 2020 \n",
    "- **validation:** 2021"
   ]
  },
  {
   "cell_type": "code",
   "execution_count": 14,
   "metadata": {},
   "outputs": [],
   "source": [
    "era5, cerra = load_data()\n",
    "\n",
    "#TODO: add function to display via plot"
   ]
  },
  {
   "attachments": {},
   "cell_type": "markdown",
   "metadata": {},
   "source": [
    ".\n",
    "## Data Preperation"
   ]
  },
  {
   "cell_type": "code",
   "execution_count": 16,
   "metadata": {},
   "outputs": [],
   "source": [
    "# Standardisierung\n",
    "\n",
    "# Data Splitting"
   ]
  },
  {
   "attachments": {},
   "cell_type": "markdown",
   "metadata": {},
   "source": [
    ".\n",
    "## Build a UNet Model"
   ]
  },
  {
   "cell_type": "code",
   "execution_count": null,
   "metadata": {},
   "outputs": [],
   "source": [
    "unet_model = unet()\n",
    "unet_model.summary()"
   ]
  },
  {
   "attachments": {},
   "cell_type": "markdown",
   "metadata": {},
   "source": [
    "## Hyperparameter optimization"
   ]
  },
  {
   "cell_type": "code",
   "execution_count": null,
   "metadata": {},
   "outputs": [],
   "source": []
  },
  {
   "attachments": {},
   "cell_type": "markdown",
   "metadata": {},
   "source": [
    "## Model Evaluation"
   ]
  },
  {
   "cell_type": "code",
   "execution_count": null,
   "metadata": {},
   "outputs": [],
   "source": []
  }
 ],
 "metadata": {
  "kernelspec": {
   "display_name": "Python 3",
   "language": "python",
   "name": "python3"
  },
  "language_info": {
   "codemirror_mode": {
    "name": "ipython",
    "version": 3
   },
   "file_extension": ".py",
   "mimetype": "text/x-python",
   "name": "python",
   "nbconvert_exporter": "python",
   "pygments_lexer": "ipython3",
   "version": "3.10.7"
  },
  "orig_nbformat": 4
 },
 "nbformat": 4,
 "nbformat_minor": 2
}
