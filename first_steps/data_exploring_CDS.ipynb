{
 "cells": [
  {
   "cell_type": "markdown",
   "metadata": {},
   "source": [
    "### WORK IN PROGRESS\n",
    "Includes Data Loading Techniques for CDS Data Loading <br>\n",
    "=> loads data<br>\n",
    "=> but cerra data is not in right format ? <br>\n",
    "=> need to go over this again + write down questions for irene<br>"
   ]
  },
  {
   "cell_type": "code",
   "execution_count": null,
   "metadata": {},
   "outputs": [],
   "source": [
    "from IPython.display import display\n",
    "import cdsapi\n",
    "import xarray as xr\n",
    "from xarray import backends\n",
    "from urllib.request import urlopen\n",
    "import io\n",
    "\n",
    "import pandas as pd\n",
    "import numpy as np\n",
    "import matplotlib as mpl\n",
    "import matplotlib.pyplot as plt\n",
    "from cartopy import crs as ccrs, feature as cfeature\n",
    "\n",
    "import config.data_params\n",
    "#from config.data_params import CERRA_PARAMS, ERA5_PARAMS, DATASET_CERRA, DATASET_ERA5\n",
    "from visualization.climate_data_visualizer import ClimateDataVisualizer\n",
    "import warnings\n",
    "warnings.filterwarnings('ignore')\n",
    "\n",
    "import importlib"
   ]
  },
  {
   "cell_type": "markdown",
   "metadata": {},
   "source": [
    "## Input Data\n",
    "**Era5 Data** <br>\n",
    "displays the low-resolution data for the model, which should later be downscaled so it fits the high-resolution data.<br>\n",
    "\n",
    "**Cerra Data** <br>\n",
    "displays the high-resolution data for the model, it's the goal data format. "
   ]
  },
  {
   "cell_type": "code",
   "execution_count": null,
   "metadata": {},
   "outputs": [],
   "source": [
    "def load_climate_data(params, dataset, save_to_disk=False, load_from_disk=False):\n",
    "    \"\"\"\n",
    "    Load climate data from CDS or disk.\n",
    "\n",
    "    Parameters:\n",
    "    - params (dict): Dictionary of parameters for CDS retrieval.\n",
    "    - dataset (str): Name of the dataset.\n",
    "    - save_to_disk (bool): Flag indicating whether to save the data to disk.\n",
    "    - load_from_disk (bool): Flag indicating whether to load the data from disk.\n",
    "\n",
    "    Returns:\n",
    "    - xr.Dataset: Loaded climate data.\n",
    "    \"\"\"\n",
    "    if load_from_disk:\n",
    "        try:\n",
    "            return load_data_from_disk(dataset)\n",
    "        except FileNotFoundError:\n",
    "            print(f\"File {dataset} not found on disk. Retrieving data from CDS.\")\n",
    "            return retrieve_from_cds(dataset, params, save_to_disk)\n",
    "        \n",
    "    else:\n",
    "        return retrieve_from_cds(dataset, params, save_to_disk)\n",
    "\n",
    "    \n",
    "def retrieve_from_cds(dataset, params, save_to_disk = False):\n",
    "    \"\"\"\n",
    "    Retrieve climate data from CDS.\n",
    "\n",
    "    Parameters:\n",
    "    - dataset (str): Name of the dataset.\n",
    "    - params (dict): Dictionary of parameters for CDS retrieval.\n",
    "    - save_to_disk (bool): Flag indicating whether to save the data to disk.\n",
    "\n",
    "    Returns:\n",
    "    - xr.Dataset: Loaded climate data.\n",
    "    \"\"\"\n",
    "    cds = cdsapi.Client()\n",
    "    data = cds.retrieve(dataset, params, ) #'download.grib')\n",
    "\n",
    "    if save_to_disk:\n",
    "        store_data_to_disk(dataset, data)\n",
    "\n",
    "    with urlopen(data.location) as d:\n",
    "        bytes_ = d.read()\n",
    "        ds = xr.open_dataset(io.BytesIO(bytes_)).load()\n",
    "        #ds = xr.open_dataset(d, engine='netcdf4')\n",
    "\n",
    "        # TODO try old version of retrieving without bytes\n",
    "    \n",
    "    return ds\n",
    "\n",
    "\n",
    "def load_data_from_disk(file_name, file_path=\"./data/\"):\n",
    "    \"\"\"\n",
    "    Load climate data from disk.\n",
    "\n",
    "    Parameters:\n",
    "    - file_path (str): Path to the directory containing the file. Default is \"data\".\n",
    "    - file_name (str): Name of the file.\n",
    "\n",
    "    Returns:\n",
    "    - xr.Dataset: Loaded climate data.\n",
    "    \"\"\"\n",
    "    file_path = file_path + file_name + \".nc\"\n",
    "    return xr.open_dataset(file_path, engine='netcdf4')\n",
    "\n",
    "\n",
    "def store_data_to_disk(file_name, data, folder_path=\"data\"):\n",
    "    \"\"\"\n",
    "    Store data to disk in a specified folder.\n",
    "\n",
    "    Parameters:\n",
    "    - file_name (str): The name of the file to be saved.\n",
    "    - data: The data to be stored.\n",
    "    - folder_path (str, optional): The path to the folder where the file will be saved.\n",
    "      Default is \"data\".\n",
    "    \"\"\"\n",
    "    data.download(f\"./{folder_path}/{file_name}.nc\")\n"
   ]
  },
  {
   "cell_type": "code",
   "execution_count": null,
   "metadata": {},
   "outputs": [],
   "source": [
    "def add_dimensions_to_cerra(cerra_data, file_name=\"\", store_to_disk = False):\n",
    "    \"\"\"\n",
    "    Add longitude and latitude dimensions to a CERRA xarray dataset.\n",
    "\n",
    "    Parameters:\n",
    "    - cerra_data (xr.Dataset): CERRA xarray dataset.\n",
    "\n",
    "    Returns:\n",
    "    - xr.Dataset: Modified dataset with added longitude and latitude dimensions.\n",
    "    \"\"\"\n",
    "\n",
    "    # Assure that longitude and latitude already exist as coordinates\n",
    "    if 'longitude' in cerra_data.coords and 'latitude' in cerra_data.coords:\n",
    "        print(\"Longitude and latitude coordinates already exist.\")\n",
    "\n",
    "    else:\n",
    "        raise ValueError(\"Longitude and latitude coordinates are required but not found in the input dataset.\")\n",
    "\n",
    "    # Adding longitude and latitude as dimensions\n",
    "    cerra_data = cerra_data.assign_coords(longitude=cerra_data['longitude'], latitude=cerra_data['latitude'])\n",
    "\n",
    "\n",
    "    if store_to_disk and file_name:\n",
    "        store_data_to_disk(file_name, cerra_data)\n",
    "\n",
    "    return cerra_data\n",
    "\n"
   ]
  },
  {
   "cell_type": "code",
   "execution_count": null,
   "metadata": {},
   "outputs": [],
   "source": [
    "# needed so jupyter cached is cleared \n",
    "importlib.reload(config.data_params)\n",
    "\n",
    "print(config.data_params.CERRA_PARAMS)\n",
    "cerra_ds = load_climate_data(config.data_params.CERRA_PARAMS, config.data_params.DATASET_CERRA, True)\n",
    "\n",
    "#cerra_data = add_dimensions_to_cerra(cerra_ds, DATASET_CERRA, True)"
   ]
  },
  {
   "cell_type": "code",
   "execution_count": null,
   "metadata": {},
   "outputs": [],
   "source": [
    "# needed so jupyter cached is cleared \n",
    "importlib.reload(config.data_params)\n",
    "\n",
    "print(config.data_params.ERA5_PARAMS)\n",
    "\n",
    "# LOAD ERA% Data\n",
    "era5_dataset = load_climate_data(config.data_params.ERA5_PARAMS, config.data_params.DATASET_ERA5)\n",
    "\n",
    "#display(era5_dataset)\n",
    "\n",
    "# 1 J - 12 M - 31 D => 13 m 20.6 s "
   ]
  },
  {
   "cell_type": "markdown",
   "metadata": {},
   "source": [
    "### Loading Data"
   ]
  },
  {
   "cell_type": "code",
   "execution_count": null,
   "metadata": {},
   "outputs": [],
   "source": [
    "cerra_dataset = load_data_from_disk(config.data_params.DATASET_CERRA)\n",
    "era5_dataset = load_data_from_disk(config.data_params.DATASET_ERA5)\n"
   ]
  },
  {
   "cell_type": "markdown",
   "metadata": {},
   "source": [
    "### Visualizig Data"
   ]
  },
  {
   "cell_type": "code",
   "execution_count": null,
   "metadata": {},
   "outputs": [],
   "source": [
    "visualizer = ClimateDataVisualizer()\n",
    "visualizer.plot_era5_data(era5_dataset)\n",
    "visualizer.plot_cerra_data(cerra_dataset)"
   ]
  },
  {
   "cell_type": "code",
   "execution_count": null,
   "metadata": {},
   "outputs": [],
   "source": [
    "# find coordinate range\n",
    "print(\"----CERRA----\")\n",
    "print (\"LONGITUDE\")\n",
    "print(\"min: \", cerra_dataset.longitude.min().values)\n",
    "print(\"max: \", cerra_dataset.longitude.max().values)\n",
    "\n",
    "print (\"LATITUDE\")\n",
    "print(\"min: \", cerra_dataset.latitude.min().values)\n",
    "print(\"max: \", cerra_dataset.latitude.max().values)\n",
    "\n",
    "print(\"----ERA5----\")\n",
    "print (\"LONGITUDE\")\n",
    "print(\"min: \", era5_dataset.longitude.min().values)\n",
    "print(\"max: \", era5_dataset.longitude.max().values)\n",
    "\n",
    "print (\"LATITUDE\")\n",
    "print(\"min: \", era5_dataset.latitude.min().values)\n",
    "print(\"max: \", era5_dataset.latitude.max().values)"
   ]
  },
  {
   "cell_type": "markdown",
   "metadata": {},
   "source": [
    "### Modifying CERRA Data"
   ]
  },
  {
   "cell_type": "markdown",
   "metadata": {},
   "source": [
    "##### Umbennen der Dimension in longitude & latitude "
   ]
  },
  {
   "cell_type": "code",
   "execution_count": null,
   "metadata": {},
   "outputs": [],
   "source": [
    "print(len(cerra_dataset.longitude))\n",
    "print(len(cerra_dataset.latitude))\n",
    "print(cerra_dataset.dims) # it seems like that 'y': 1069, 'x': 1069 are longitudue & latitude :D \n",
    "#display(cerra_dataset)\n",
    "\n",
    "cerra_ds_old_version = cerra_dataset\n",
    "\n",
    "# Benenne die 'x'-Dimension in 'longitude' um\n",
    "cerra_dataset_renamed = cerra_dataset.rename({'x': 'longitude'})\n",
    "\n",
    "# Benenne die 'y'-Dimension in 'latitude' um\n",
    "cerra_dataset_renamed = cerra_dataset_renamed.rename({'y': 'latitude'})"
   ]
  },
  {
   "cell_type": "code",
   "execution_count": null,
   "metadata": {},
   "outputs": [],
   "source": [
    "ds_with_index = cerra_dataset_renamed.set_index(longitude='longitude', latitude='latitude')"
   ]
  },
  {
   "cell_type": "code",
   "execution_count": null,
   "metadata": {},
   "outputs": [],
   "source": [
    "\n",
    "old_cerra = load_data_from_disk(\"t2m_cerra_202001_005deg\")\n",
    "display(old_cerra)\n"
   ]
  },
  {
   "cell_type": "code",
   "execution_count": null,
   "metadata": {},
   "outputs": [],
   "source": [
    "desired_time = '2020-01-01T12:00:00'  # Replace with your specific time\n",
    "desired_latitude = 40  # Replace with your specific latitude\n",
    "desired_longitude = 15 # Replace with your specific longitude\n",
    "\n",
    "# Use .sel() to extract the data for the specified time, latitude, and longitude\n",
    "old_desired = old_cerra['t2m'].sel(time=desired_time, latitude=desired_latitude, longitude=desired_longitude, method='nearest')\n",
    "print(\"value of old dat set - t2m:       \", old_desired.values)\n",
    "print(\"\")\n",
    "\n",
    "print(old_cerra.latitude)\n",
    "print(\"\")\n",
    "print(\"\")\n",
    "print(cerra_dataset.latitude)\n",
    "print(\"\")\n",
    "print(\"\")\n",
    "\n",
    "\n",
    "\n",
    "# Print the extracted data\n",
    "desired_data_d = cerra_dataset['t2m'].sel(time=desired_time)\n",
    "print(\"\")\n",
    "\n",
    "#print(desired_data_d.latitude.values[0].size)\n",
    "print(desired_data_d.latitude.values[0])\n",
    "print(desired_data_d.latitude.values[1])\n",
    "print(desired_data_d.latitude.values[1068])\n",
    "#print(desired_data_d.latitude.shape)\n",
    "\n",
    "#print(desired_data_d.longitude.x)\n",
    "print(\"\")\n",
    "#print(desired_data_d.longitude.y)\n",
    "print(\"\")\n",
    "#print(desired_data_d.x)\n",
    "\n",
    "print(desired_data_d)\n",
    "#temperature_at_location = cerra_dataset.sel(latitude=desired_latitude, longitude=desired_longitude, method='nearest')\n",
    "#print(temperature_at_location)\n",
    "\n",
    "print(era5_dataset)\n"
   ]
  },
  {
   "cell_type": "code",
   "execution_count": null,
   "metadata": {},
   "outputs": [],
   "source": [
    "ds = cerra_dataset\n",
    "\n",
    "# Assuming your Dataset is named 'ds'\n",
    "desired_latitude = 40\n",
    "desired_longitude = 15\n",
    "\n",
    "# Extract latitude and longitude values\n",
    "latitude_values = ds.latitude.values\n",
    "longitude_values = ds.longitude.values\n",
    "\n",
    "# Find the index of the nearest latitude and longitude values\n",
    "lat_idx = np.abs(latitude_values - desired_latitude).argmin()\n",
    "lon_idx = np.abs(longitude_values - desired_longitude).argmin()\n",
    "\n",
    "print(latitude_values - desired_latitude)\n",
    "\n",
    "# Select temperature at the desired location\n",
    "temperature_at_location = ds.t2m[:, lat_idx, lon_idx]\n",
    "\n",
    "# Print the result\n",
    "print(temperature_at_location)\n"
   ]
  },
  {
   "cell_type": "code",
   "execution_count": null,
   "metadata": {},
   "outputs": [],
   "source": [
    "ds = cerra_dataset.squeeze(dim='latitude', drop=True)\n",
    "ds = ds.squeeze(dim='longitude', drop=True)\n",
    "display(ds)"
   ]
  },
  {
   "cell_type": "code",
   "execution_count": null,
   "metadata": {},
   "outputs": [],
   "source": [
    "# Choose a specific latitude value for which you want to keep the longitude coordinate\n",
    "selected_latitude = 20.37505942  # Replace with the actual latitude value you want\n",
    "\n",
    "# Use .sel() to select the longitude coordinate for the chosen latitude\n",
    "ds_subset = cerra_dataset.isel(latitude=selected_latitude)\n",
    "\n",
    "# Now, ds_subset should have 'longitude' as a one-dimensional coordinate\n",
    "longitude_values = ds_subset['longitude'].values\n"
   ]
  },
  {
   "cell_type": "markdown",
   "metadata": {},
   "source": [
    "#### Crop Coordinates"
   ]
  },
  {
   "cell_type": "code",
   "execution_count": null,
   "metadata": {},
   "outputs": [],
   "source": [
    "\n",
    "# Füge einen neuen Index für 'longitude' und 'latitude' hinzu\n",
    "ds_with_index = cerra_dataset.set_index(longitude='longitude', latitude='latitude')\n",
    "\n",
    "\n",
    "# Old Values\n",
    "lon_min_cerra_old, lon_max_cerra_old= cerra_dataset['longitude'].min().values, cerra_dataset['longitude'].max().values\n",
    "lat_min_cerra_old, lat_max_cerra_old = cerra_dataset['latitude'].min().values, cerra_dataset['latitude'].max().values\n",
    "\n",
    "# Extrahiere die gewünschten Koordinatenbereiche von ERA5\n",
    "lon_min_era5, lon_max_era5 = era5_dataset['longitude'].min().values, era5_dataset['longitude'].max().values\n",
    "lat_min_era5, lat_max_era5 = era5_dataset['latitude'].min().values, era5_dataset['latitude'].max().values\n",
    "\n",
    "\n",
    "# Verkleinere den Koordinatenbereich von CERRA\n",
    "ds_cerra_subset = cerra_dataset.sel(\n",
    "    longitude=slice(lon_min_era5, lon_max_era5),\n",
    "    latitude=slice(lat_min_era5, lat_max_era5)\n",
    ")\n",
    "\n",
    "# new values\n",
    "lon_min_cerra_new, lon_max_cerra_new = ds_cerra_subset['longitude'].min().values, ds_cerra_subset['longitude'].max().values\n",
    "lat_min_cerra_new, lat_max_cerra_new = ds_cerra_subset['latitude'].min().values, ds_cerra_subset['latitude'].max().values\n",
    "\n",
    "\n",
    "print('--- OLD ---')\n",
    "print('longitude: ', lon_min_cerra_old, lon_max_cerra_old)\n",
    "print('latitude: ', lat_min_cerra_old, lat_max_cerra_old )\n",
    "\n",
    "print('--- NEW ---')\n",
    "print('longitude: ', lon_min_cerra_new, lon_max_cerra_new)\n",
    "print('latitude: ', lat_min_cerra_new, lat_max_cerra_new)\n",
    "\n"
   ]
  },
  {
   "cell_type": "markdown",
   "metadata": {},
   "source": [
    "#### Add longitidue & latitude to dimension"
   ]
  },
  {
   "cell_type": "code",
   "execution_count": null,
   "metadata": {},
   "outputs": [],
   "source": []
  },
  {
   "cell_type": "code",
   "execution_count": null,
   "metadata": {},
   "outputs": [],
   "source": [
    "import xarray as xr\n",
    "import cartopy.crs as ccrs\n",
    "\n",
    "# Load the original dataset\n",
    "data = xr.open_dataset('CERRA_original.nc')\n",
    "\n",
    "# Define the EC projection\n",
    "proj = ccrs.EquidistantCylindrical()\n",
    "\n",
    "# Project the latitude and longitude coordinates\n",
    "data['latitude'] = data['latitude'].assign_coords(projection=proj)\n",
    "data['longitude'] = data['longitude'].assign_coords(projection=proj)\n",
    "\n",
    "# Interpolate the data to the new projection\n",
    "data = data.interp_like(data, method='linear', fill_value=np.nan)\n",
    "\n",
    "# Save the modified dataset\n",
    "data.to_netcdf('CERRA_modified_with_EC.nc')\n"
   ]
  }
 ],
 "metadata": {
  "kernelspec": {
   "display_name": "Python 3",
   "language": "python",
   "name": "python3"
  },
  "language_info": {
   "codemirror_mode": {
    "name": "ipython",
    "version": 3
   },
   "file_extension": ".py",
   "mimetype": "text/x-python",
   "name": "python",
   "nbconvert_exporter": "python",
   "pygments_lexer": "ipython3",
   "version": "3.10.7"
  }
 },
 "nbformat": 4,
 "nbformat_minor": 2
}
