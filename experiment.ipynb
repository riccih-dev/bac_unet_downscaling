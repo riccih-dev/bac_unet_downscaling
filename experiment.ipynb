{
 "cells": [
  {
   "cell_type": "code",
   "execution_count": 2,
   "metadata": {},
   "outputs": [],
   "source": [
    "#these imports only work, when running the experiment from root project folder\n",
    "from downscaling.pipeline import DownscalingPipeline"
   ]
  },
  {
   "cell_type": "markdown",
   "metadata": {},
   "source": [
    "### Definition of Parameters and Hyperparamters\n",
    "Loads data_params file \n",
    "\n",
    "Set Hyperparameters"
   ]
  },
  {
   "cell_type": "code",
   "execution_count": 3,
   "metadata": {},
   "outputs": [
    {
     "name": "stdout",
     "output_type": "stream",
     "text": [
      "Loading dataset from URL: http://rheissenberger.com/bac/era5/t2m_era5_200601_025deg.nc\n"
     ]
    },
    {
     "name": "stderr",
     "output_type": "stream",
     "text": [
      "/Library/Frameworks/Python.framework/Versions/3.10/lib/python3.10/site-packages/xarray/backends/plugins.py:80: RuntimeWarning: Engine 'cfgrib' loading failed:\n",
      "Cannot find the ecCodes library\n",
      "  warnings.warn(f\"Engine {name!r} loading failed:\\n{ex}\", RuntimeWarning)\n"
     ]
    },
    {
     "name": "stdout",
     "output_type": "stream",
     "text": [
      "Loading dataset from URL: http://rheissenberger.com/bac/era5/t2m_era5_200602_025deg.nc\n",
      "Loading dataset from URL: http://rheissenberger.com/bac/era5/t2m_era5_lsm_geop_201801_025deg.nc\n",
      "<xarray.Dataset>\n",
      "Dimensions:    (longitude: 281, latitude: 221, time: 472)\n",
      "Coordinates:\n",
      "  * longitude  (longitude) float32 -25.0 -24.75 -24.5 -24.25 ... 44.5 44.75 45.0\n",
      "  * latitude   (latitude) float32 75.0 74.75 74.5 74.25 ... 20.5 20.25 20.0\n",
      "  * time       (time) datetime64[ns] 2006-01-01 ... 2006-02-28T21:00:00\n",
      "Data variables:\n",
      "    t2m        (time, latitude, longitude) float32 238.9 238.9 ... 286.5 286.5\n",
      "Attributes:\n",
      "    Conventions:  CF-1.6\n",
      "    history:      2023-05-26 06:54:26 GMT by grib_to_netcdf-2.28.0: grib_to_n...\n"
     ]
    }
   ],
   "source": [
    "# load cerra\n",
    "# load data_params\n",
    "pipeline = DownscalingPipeline()\n",
    "cerra, cerra_lsm_orog = pipeline.load_era5()\n",
    "\n",
    "print(cerra)\n"
   ]
  },
  {
   "cell_type": "markdown",
   "metadata": {},
   "source": [
    "## Data Preperation \n",
    "This steps consits of loading the dataset, preprocessing and data splitting step."
   ]
  },
  {
   "cell_type": "markdown",
   "metadata": {},
   "source": [
    "### Data Loading \n",
    "Defintion of Data, Features, Years etc.\n",
    "Where do i get the data from"
   ]
  },
  {
   "cell_type": "code",
   "execution_count": null,
   "metadata": {},
   "outputs": [],
   "source": [
    "# load data\n",
    "\n",
    "# show data"
   ]
  },
  {
   "cell_type": "markdown",
   "metadata": {},
   "source": [
    "### Data Preprocessing \n",
    "Explain shortly how the data is preprocessed. Both Metrics"
   ]
  },
  {
   "cell_type": "code",
   "execution_count": null,
   "metadata": {},
   "outputs": [],
   "source": [
    "# preprocess\n",
    "\n",
    "# show data "
   ]
  },
  {
   "cell_type": "markdown",
   "metadata": {},
   "source": [
    "### Data Splitting\n",
    "Explain how the data is splitted, which ratio. Evtl. store the data"
   ]
  },
  {
   "cell_type": "code",
   "execution_count": null,
   "metadata": {},
   "outputs": [],
   "source": [
    "# split\n",
    "\n",
    "# show ratio "
   ]
  },
  {
   "cell_type": "markdown",
   "metadata": {},
   "source": [
    "## Model Setup\n",
    "This step consits of model creation and training. "
   ]
  },
  {
   "cell_type": "markdown",
   "metadata": {},
   "source": [
    "### Creation of the Model\n",
    "Explain Model, how input shape is defined "
   ]
  },
  {
   "cell_type": "code",
   "execution_count": null,
   "metadata": {},
   "outputs": [],
   "source": [
    "# create model \n",
    "\n",
    "# show summary\n"
   ]
  },
  {
   "cell_type": "markdown",
   "metadata": {},
   "source": [
    "### Train Model\n",
    "test different hyperparameters, maybe explain them in markdown"
   ]
  },
  {
   "cell_type": "code",
   "execution_count": null,
   "metadata": {},
   "outputs": [],
   "source": []
  },
  {
   "cell_type": "markdown",
   "metadata": {},
   "source": [
    "## Prediction & Evaluation\n",
    "Last step unseen temperautre data predicted, plus evaluation"
   ]
  },
  {
   "cell_type": "markdown",
   "metadata": {},
   "source": [
    "### Prediction"
   ]
  },
  {
   "cell_type": "code",
   "execution_count": null,
   "metadata": {},
   "outputs": [],
   "source": [
    "# prediction\n"
   ]
  },
  {
   "cell_type": "markdown",
   "metadata": {},
   "source": [
    "### Evaluation"
   ]
  },
  {
   "cell_type": "code",
   "execution_count": null,
   "metadata": {},
   "outputs": [],
   "source": [
    "# show plots etc. "
   ]
  }
 ],
 "metadata": {
  "kernelspec": {
   "display_name": "Python 3",
   "language": "python",
   "name": "python3"
  },
  "language_info": {
   "codemirror_mode": {
    "name": "ipython",
    "version": 3
   },
   "file_extension": ".py",
   "mimetype": "text/x-python",
   "name": "python",
   "nbconvert_exporter": "python",
   "pygments_lexer": "ipython3",
   "version": "3.10.7"
  }
 },
 "nbformat": 4,
 "nbformat_minor": 2
}
